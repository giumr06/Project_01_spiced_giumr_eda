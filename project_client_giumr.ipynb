{
 "cells": [
  {
   "cell_type": "code",
   "execution_count": 6,
   "metadata": {},
   "outputs": [],
   "source": [
    "##Setting the enviromment: \n",
    "\n",
    "#1# Useful: \n",
    "import pandas as pd  #panda library\n",
    "import numpy as np   #numpy library\n",
    "import missingno as msno # data cleaning\n",
    "import psycopg2   # \n",
    "from sqlalchemy import create_engine  #\n",
    "import os\n",
    "from dotenv import load_dotenv    # \n",
    "\n",
    "#2# Data visualization: \n",
    "import matplotlib.pyplot as plt\n",
    "import seaborn as sns"
   ]
  },
  {
   "cell_type": "code",
   "execution_count": 7,
   "metadata": {},
   "outputs": [
    {
     "name": "stderr",
     "output_type": "stream",
     "text": [
      "C:\\Users\\Giu\\AppData\\Local\\Temp\\ipykernel_11524\\2938442450.py:19: UserWarning: pandas only supports SQLAlchemy connectable (engine/connection) or database string URI or sqlite3 DBAPI2 connection. Other DBAPI2 objects are not tested. Please consider using SQLAlchemy.\n",
      "  df_nicole = pd.read_sql(query_string, conn)\n"
     ]
    }
   ],
   "source": [
    "## Setting the data frame: \n",
    "load_dotenv()\n",
    "\n",
    "DATABASE = os.getenv('DATABASE')\n",
    "USER_DB = os.getenv('USER_DB')\n",
    "PASSWORD = os.getenv('PASSWORD')\n",
    "HOST = os.getenv('HOST')\n",
    "PORT = os.getenv('PORT')\n",
    "\n",
    "conn = psycopg2.connect(\n",
    "    database=DATABASE,\n",
    "    user=USER_DB,\n",
    "    password=PASSWORD,\n",
    "    host=HOST,\n",
    "    port=PORT\n",
    ")\n",
    "cur = conn.cursor()\n",
    "query_string = \"SELECT ks.price , kd.zipcode, kd.grade, kd.condition, ks.house_id, kd.sqft_living, kd.sqft_lot15,ks.house_id  FROM eda.king_county_house_details kd FULL JOIN eda.king_county_house_sales ks ON ks.house_id  = kd.id \"\n",
    "df_nicole = pd.read_sql(query_string, conn)\n",
    "df_nicole.to_csv('data/eda.csv',index=False)\n",
    "conn.close()"
   ]
  },
  {
   "cell_type": "code",
   "execution_count": 8,
   "metadata": {},
   "outputs": [
    {
     "data": {
      "text/plain": [
       "Index(['price', 'zipcode', 'grade', 'condition', 'house_id', 'sqft_living',\n",
       "       'sqft_lot15'],\n",
       "      dtype='object')"
      ]
     },
     "execution_count": 8,
     "metadata": {},
     "output_type": "execute_result"
    }
   ],
   "source": [
    "##Cleaning and organizing the data: \n",
    "\n",
    "df_nicole = pd.read_csv('data/eda.csv')\n",
    "#df_nicole.duplicated().value_counts()  --> first check on duplicates \n",
    "#df_nicole = df_task_01.drop_duplicates()\n",
    "df_nicole.columns.drop_duplicates()\n",
    "df_nicole.drop(df_nicole.columns[[-1]], axis=1, inplace=True)\n",
    "df_nicole.reset_index(inplace=True, drop=True)\n",
    "\n",
    "df_nicole.fillna(0, inplace=True)  ##--> making sure I won't have a NaN\n",
    "\n",
    "df_nicole.columns  ##-->checking the colummn names for the next questions\n",
    "\n",
    "#df_task_01.head()"
   ]
  },
  {
   "cell_type": "markdown",
   "metadata": {},
   "source": []
  }
 ],
 "metadata": {
  "kernelspec": {
   "display_name": ".venv",
   "language": "python",
   "name": "python3"
  },
  "language_info": {
   "codemirror_mode": {
    "name": "ipython",
    "version": 3
   },
   "file_extension": ".py",
   "mimetype": "text/x-python",
   "name": "python",
   "nbconvert_exporter": "python",
   "pygments_lexer": "ipython3",
   "version": "3.10.5"
  },
  "orig_nbformat": 4
 },
 "nbformat": 4,
 "nbformat_minor": 2
}
