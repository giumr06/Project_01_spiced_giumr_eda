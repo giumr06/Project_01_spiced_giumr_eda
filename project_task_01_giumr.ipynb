{
 "cells": [
  {
   "cell_type": "code",
   "execution_count": 1,
   "metadata": {},
   "outputs": [],
   "source": [
    "##Setting the enviromment: \n",
    "\n",
    "#1# Useful: \n",
    "import pandas as pd  #panda library\n",
    "import numpy as np   #numpy library\n",
    "import missingno as msno # data cleaning\n",
    "import psycopg2   # \n",
    "from sqlalchemy import create_engine  #\n",
    "import os\n",
    "from dotenv import load_dotenv    # \n",
    "\n",
    "#2# Data visualization: \n",
    "import matplotlib.pyplot as plt\n",
    "import seaborn as sns"
   ]
  },
  {
   "cell_type": "code",
   "execution_count": 2,
   "metadata": {},
   "outputs": [
    {
     "name": "stderr",
     "output_type": "stream",
     "text": [
      "C:\\Users\\Giu\\AppData\\Local\\Temp\\ipykernel_1436\\3167208934.py:19: UserWarning: pandas only supports SQLAlchemy connectable (engine/connection) or database string URI or sqlite3 DBAPI2 connection. Other DBAPI2 objects are not tested. Please consider using SQLAlchemy.\n",
      "  df_task_01 = pd.read_sql(query_string, conn)\n"
     ]
    }
   ],
   "source": [
    "## Setting the data frame: \n",
    "load_dotenv()\n",
    "\n",
    "DATABASE = os.getenv('DATABASE')\n",
    "USER_DB = os.getenv('USER_DB')\n",
    "PASSWORD = os.getenv('PASSWORD')\n",
    "HOST = os.getenv('HOST')\n",
    "PORT = os.getenv('PORT')\n",
    "\n",
    "conn = psycopg2.connect(\n",
    "    database=DATABASE,\n",
    "    user=USER_DB,\n",
    "    password=PASSWORD,\n",
    "    host=HOST,\n",
    "    port=PORT\n",
    ")\n",
    "cur = conn.cursor()\n",
    "query_string = \"SELECT ks.price , kd.zipcode, kd.yr_built, ks.date, ks.house_id, kd.sqft_living, kd.sqft_lot15,ks.house_id  FROM eda.king_county_house_details kd FULL JOIN eda.king_county_house_sales ks ON ks.house_id  = kd.id \"\n",
    "df_task_01 = pd.read_sql(query_string, conn)\n",
    "df_task_01.to_csv('data/eda.csv',index=False)\n",
    "conn.close()\n"
   ]
  },
  {
   "cell_type": "code",
   "execution_count": 44,
   "metadata": {},
   "outputs": [
    {
     "data": {
      "text/html": [
       "<div>\n",
       "<style scoped>\n",
       "    .dataframe tbody tr th:only-of-type {\n",
       "        vertical-align: middle;\n",
       "    }\n",
       "\n",
       "    .dataframe tbody tr th {\n",
       "        vertical-align: top;\n",
       "    }\n",
       "\n",
       "    .dataframe thead th {\n",
       "        text-align: right;\n",
       "    }\n",
       "</style>\n",
       "<table border=\"1\" class=\"dataframe\">\n",
       "  <thead>\n",
       "    <tr style=\"text-align: right;\">\n",
       "      <th></th>\n",
       "      <th>price</th>\n",
       "      <th>zipcode</th>\n",
       "      <th>yr_built</th>\n",
       "      <th>date</th>\n",
       "      <th>house_id</th>\n",
       "      <th>sqft_living</th>\n",
       "      <th>sqft_lot15</th>\n",
       "    </tr>\n",
       "  </thead>\n",
       "  <tbody>\n",
       "    <tr>\n",
       "      <th>21592</th>\n",
       "      <td>360000.0</td>\n",
       "      <td>98103</td>\n",
       "      <td>2009</td>\n",
       "      <td>2014-05-21</td>\n",
       "      <td>263000018</td>\n",
       "      <td>1530.0</td>\n",
       "      <td>1509.0</td>\n",
       "    </tr>\n",
       "    <tr>\n",
       "      <th>21593</th>\n",
       "      <td>400000.0</td>\n",
       "      <td>98146</td>\n",
       "      <td>2014</td>\n",
       "      <td>2015-02-23</td>\n",
       "      <td>6600060120</td>\n",
       "      <td>2310.0</td>\n",
       "      <td>7200.0</td>\n",
       "    </tr>\n",
       "    <tr>\n",
       "      <th>21594</th>\n",
       "      <td>402101.0</td>\n",
       "      <td>98144</td>\n",
       "      <td>2009</td>\n",
       "      <td>2014-06-23</td>\n",
       "      <td>1523300141</td>\n",
       "      <td>1020.0</td>\n",
       "      <td>2007.0</td>\n",
       "    </tr>\n",
       "    <tr>\n",
       "      <th>21595</th>\n",
       "      <td>400000.0</td>\n",
       "      <td>98027</td>\n",
       "      <td>2004</td>\n",
       "      <td>2015-01-16</td>\n",
       "      <td>291310100</td>\n",
       "      <td>1600.0</td>\n",
       "      <td>1287.0</td>\n",
       "    </tr>\n",
       "    <tr>\n",
       "      <th>21596</th>\n",
       "      <td>325000.0</td>\n",
       "      <td>98144</td>\n",
       "      <td>2008</td>\n",
       "      <td>2014-10-15</td>\n",
       "      <td>1523300157</td>\n",
       "      <td>1020.0</td>\n",
       "      <td>1357.0</td>\n",
       "    </tr>\n",
       "  </tbody>\n",
       "</table>\n",
       "</div>"
      ],
      "text/plain": [
       "          price  zipcode  yr_built        date    house_id  sqft_living  \\\n",
       "21592  360000.0    98103      2009  2014-05-21   263000018       1530.0   \n",
       "21593  400000.0    98146      2014  2015-02-23  6600060120       2310.0   \n",
       "21594  402101.0    98144      2009  2014-06-23  1523300141       1020.0   \n",
       "21595  400000.0    98027      2004  2015-01-16   291310100       1600.0   \n",
       "21596  325000.0    98144      2008  2014-10-15  1523300157       1020.0   \n",
       "\n",
       "       sqft_lot15  \n",
       "21592      1509.0  \n",
       "21593      7200.0  \n",
       "21594      2007.0  \n",
       "21595      1287.0  \n",
       "21596      1357.0  "
      ]
     },
     "execution_count": 44,
     "metadata": {},
     "output_type": "execute_result"
    }
   ],
   "source": [
    "##Cleaning and organizing the data: \n",
    "\n",
    "df_task_01 = pd.read_csv('data/eda.csv')\n",
    "#df_task_01.duplicated().value_counts()  --> first check on duplicates \n",
    "df_task_01 = df_task_01.drop_duplicates()\n",
    "df_task_01.columns.drop_duplicates()\n",
    "df_task_01.drop(df_task_01.columns[[-1]], axis=1, inplace=True)\n",
    "df_task_01.reset_index(inplace=True, drop=True)\n",
    "\n",
    "df_task_01.fillna(0, inplace=True)  ##--> making sure I won't have a NaN\n",
    "\n",
    "df_task_01.columns  ##-->checking the colummn names for the next questions\n",
    "\n",
    "#df_task_01.tail()"
   ]
  },
  {
   "cell_type": "code",
   "execution_count": 56,
   "metadata": {},
   "outputs": [
    {
     "data": {
      "text/plain": [
       "<Axes: >"
      ]
     },
     "execution_count": 56,
     "metadata": {},
     "output_type": "execute_result"
    },
    {
     "data": {
      "image/png": "[encoded data removed]",
      "text/plain": [
       "<Figure size 640x480 with 2 Axes>"
      ]
     },
     "metadata": {},
     "output_type": "display_data"
    }
   ],
   "source": [
    "###Questions: \n",
    "\n",
    "#1# \"Which are the most noble areas?\"\n",
    "zipcodes_check = df_task_01.groupby([\"zipcode\"]).nunique()\n",
    "\n",
    "noble_areas = df_task_01.groupby([\"price\"])[\"zipcode\"].count().reset_index()\n",
    "noble_areas\n",
    "zipcodes_check\n",
    "\n",
    "sns.heatmap(noble_areas)"
   ]
  }
 ],
 "metadata": {
  "kernelspec": {
   "display_name": ".venv",
   "language": "python",
   "name": "python3"
  },
  "language_info": {
   "codemirror_mode": {
    "name": "ipython",
    "version": 3
   },
   "file_extension": ".py",
   "mimetype": "text/x-python",
   "name": "python",
   "nbconvert_exporter": "python",
   "pygments_lexer": "ipython3",
   "version": "3.10.5"
  },
  "orig_nbformat": 4
 },
 "nbformat": 4,
 "nbformat_minor": 2
}
